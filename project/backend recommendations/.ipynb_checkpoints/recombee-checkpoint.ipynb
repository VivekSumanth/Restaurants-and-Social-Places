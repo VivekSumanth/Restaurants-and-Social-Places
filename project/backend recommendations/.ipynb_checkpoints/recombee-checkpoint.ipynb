{
 "cells": [
  {
   "cell_type": "code",
   "execution_count": 1,
   "metadata": {
    "scrolled": true
   },
   "outputs": [],
   "source": [
    "import pymongo\n",
    "import json\n",
    "import bson\n",
    "from bson.raw_bson import RawBSONDocument\n",
    "from bson import ObjectId\n",
    "from pymongo import MongoClient\n",
    "from recombee_api_client.api_client import RecombeeClient\n",
    "from recombee_api_client.exceptions import APIException\n",
    "from recombee_api_client.api_requests import *\n"
   ]
  },
  {
   "cell_type": "code",
   "execution_count": 2,
   "metadata": {},
   "outputs": [
    {
     "name": "stdout",
     "output_type": "stream",
     "text": [
      "{'host': 'viveks-MacBook-Pro.local', 'version': '4.2.3', 'process': 'mongod', 'pid': 2445, 'uptime': 10913.0, 'uptimeMillis': 10913135, 'uptimeEstimate': 10913, 'localTime': datetime.datetime(2020, 4, 25, 18, 53, 49, 705000), 'asserts': {'regular': 0, 'warning': 0, 'msg': 0, 'user': 1, 'rollovers': 0}, 'connections': {'current': 14, 'available': 190, 'totalCreated': 306, 'active': 1}, 'electionMetrics': {'stepUpCmd': {'called': 0, 'successful': 0}, 'priorityTakeover': {'called': 0, 'successful': 0}, 'catchUpTakeover': {'called': 0, 'successful': 0}, 'electionTimeout': {'called': 0, 'successful': 0}, 'freezeTimeout': {'called': 0, 'successful': 0}, 'numStepDownsCausedByHigherTerm': 0, 'numCatchUps': 0, 'numCatchUpsSucceeded': 0, 'numCatchUpsAlreadyCaughtUp': 0, 'numCatchUpsSkipped': 0, 'numCatchUpsTimedOut': 0, 'numCatchUpsFailedWithError': 0, 'numCatchUpsFailedWithNewTerm': 0, 'numCatchUpsFailedWithReplSetAbortPrimaryCatchUpCmd': 0, 'averageCatchUpOps': 0.0}, 'extra_info': {'note': 'fields vary by platform', 'page_faults': 5252}, 'flowControl': {'enabled': True, 'targetRateLimit': 1000000000, 'timeAcquiringMicros': 272, 'locksPerOp': 0.0, 'sustainerRate': 0, 'isLagged': False, 'isLaggedCount': 0, 'isLaggedTimeMicros': 0}, 'freeMonitoring': {'state': 'undecided'}, 'globalLock': {'totalTime': 10913090000, 'currentQueue': {'total': 0, 'readers': 0, 'writers': 0}, 'activeClients': {'total': 0, 'readers': 0, 'writers': 0}}, 'locks': {'ParallelBatchWriterMode': {'acquireCount': {'r': 457}}, 'ReplicationStateTransition': {'acquireCount': {'w': 31867}}, 'Global': {'acquireCount': {'r': 31599, 'w': 264, 'W': 4}}, 'Database': {'acquireCount': {'r': 10751, 'w': 261, 'W': 3}}, 'Collection': {'acquireCount': {'r': 10811, 'w': 260, 'W': 1}}, 'Mutex': {'acquireCount': {'r': 11117}}, 'oplog': {'acquireCount': {'r': 10439}}}, 'logicalSessionRecordCache': {'activeSessionsCount': 6, 'sessionsCollectionJobCount': 35, 'lastSessionsCollectionJobDurationMillis': 2, 'lastSessionsCollectionJobTimestamp': datetime.datetime(2020, 4, 25, 18, 49, 56, 297000), 'lastSessionsCollectionJobEntriesRefreshed': 9, 'lastSessionsCollectionJobEntriesEnded': 0, 'lastSessionsCollectionJobCursorsClosed': 0, 'transactionReaperJobCount': 35, 'lastTransactionReaperJobDurationMillis': 0, 'lastTransactionReaperJobTimestamp': datetime.datetime(2020, 4, 25, 18, 49, 56, 297000), 'lastTransactionReaperJobEntriesCleanedUp': 0, 'sessionCatalogSize': 0}, 'network': {'bytesIn': 194745, 'bytesOut': 523631, 'physicalBytesIn': 194745, 'physicalBytesOut': 523631, 'numRequests': 1805, 'compression': {'snappy': {'compressor': {'bytesIn': 0, 'bytesOut': 0}, 'decompressor': {'bytesIn': 0, 'bytesOut': 0}}, 'zstd': {'compressor': {'bytesIn': 0, 'bytesOut': 0}, 'decompressor': {'bytesIn': 0, 'bytesOut': 0}}, 'zlib': {'compressor': {'bytesIn': 0, 'bytesOut': 0}, 'decompressor': {'bytesIn': 0, 'bytesOut': 0}}}, 'serviceExecutorTaskStats': {'executor': 'passthrough', 'threadsRunning': 14}}, 'opLatencies': {'reads': {'latency': 14164, 'ops': 21}, 'writes': {'latency': 48153, 'ops': 7}, 'commands': {'latency': 80889, 'ops': 1776}, 'transactions': {'latency': 0, 'ops': 0}}, 'opReadConcernCounters': {'available': 0, 'linearizable': 0, 'local': 0, 'majority': 0, 'snapshot': 0, 'none': 57}, 'opcounters': {'insert': 2, 'query': 57, 'update': 82, 'delete': 2, 'getmore': 0, 'command': 1847}, 'opcountersRepl': {'insert': 0, 'query': 0, 'update': 0, 'delete': 0, 'getmore': 0, 'command': 0}, 'storageEngine': {'name': 'wiredTiger', 'supportsCommittedReads': True, 'oldestRequiredTimestampForCrashRecovery': Timestamp(0, 0), 'supportsPendingDrops': True, 'dropPendingIdents': 0, 'supportsSnapshotReadConcern': True, 'readOnly': False, 'persistent': True, 'backupCursorOpen': False}, 'trafficRecording': {'running': False}, 'transactions': {'retriedCommandsCount': 0, 'retriedStatementsCount': 0, 'transactionsCollectionWriteCount': 0, 'currentActive': 0, 'currentInactive': 0, 'currentOpen': 0, 'totalAborted': 0, 'totalCommitted': 0, 'totalStarted': 0, 'totalPrepared': 0, 'totalPreparedThenCommitted': 0, 'totalPreparedThenAborted': 0, 'currentPrepared': 0}, 'transportSecurity': {'1.0': 0, '1.1': 0, '1.2': 0, '1.3': 0, 'unknown': 0}, 'twoPhaseCommitCoordinator': {'totalCreated': 0, 'totalStartedTwoPhaseCommit': 0, 'totalAbortedTwoPhaseCommit': 0, 'totalCommittedTwoPhaseCommit': 0, 'currentInSteps': {'writingParticipantList': 0, 'waitingForVotes': 0, 'writingDecision': 0, 'waitingForDecisionAcks': 0, 'deletingCoordinatorDoc': 0}}, 'wiredTiger': {'uri': 'statistics:', 'async': {'current work queue length': 0, 'maximum work queue length': 0, 'number of allocation state races': 0, 'number of flush calls': 0, 'number of operation slots viewed for allocation': 0, 'number of times operation allocation failed': 0, 'number of times worker found no work': 0, 'total allocations': 0, 'total compact calls': 0, 'total insert calls': 0, 'total remove calls': 0, 'total search calls': 0, 'total update calls': 0}, 'block-manager': {'blocks pre-loaded': 10, 'blocks read': 261, 'blocks written': 1017, 'bytes read': 1097728, 'bytes written': 6901760, 'bytes written for checkpoint': 6901760, 'mapped blocks read': 0, 'mapped bytes read': 0}, 'cache': {'application threads page read from disk to cache count': 8, 'application threads page read from disk to cache time (usecs)': 1090, 'application threads page write from cache to disk count': 545, 'application threads page write from cache to disk time (usecs)': 182976, 'bytes belonging to page images in the cache': 92305, 'bytes belonging to the cache overflow table in the cache': 182, 'bytes currently in the cache': 158485, 'bytes dirty in the cache cumulative': 2655791, 'bytes not belonging to page images in the cache': 66180, 'bytes read into cache': 85468, 'bytes written from cache': 3309078, 'cache overflow cursor application thread wait time (usecs)': 0, 'cache overflow cursor internal thread wait time (usecs)': 0, 'cache overflow score': 0, 'cache overflow table entries': 0, 'cache overflow table insert calls': 0, 'cache overflow table max on-disk size': 0, 'cache overflow table on-disk size': 0, 'cache overflow table remove calls': 0, 'checkpoint blocked page eviction': 0, 'eviction calls to get a page': 304, 'eviction calls to get a page found queue empty': 304, 'eviction calls to get a page found queue empty after locking': 0, 'eviction currently operating in aggressive mode': 0, 'eviction empty score': 0, 'eviction passes of a file': 0, 'eviction server candidate queue empty when topping up': 0, 'eviction server candidate queue not empty when topping up': 0, 'eviction server evicting pages': 0, 'eviction server slept, because we did not make progress with eviction': 0, 'eviction server unable to reach eviction goal': 0, 'eviction server waiting for a leaf page': 0, 'eviction state': 128, 'eviction walk target pages histogram - 0-9': 0, 'eviction walk target pages histogram - 10-31': 0, 'eviction walk target pages histogram - 128 and higher': 0, 'eviction walk target pages histogram - 32-63': 0, 'eviction walk target pages histogram - 64-128': 0, 'eviction walk target strategy both clean and dirty pages': 0, 'eviction walk target strategy only clean pages': 0, 'eviction walk target strategy only dirty pages': 0, 'eviction walks abandoned': 0, 'eviction walks gave up because they restarted their walk twice': 0, 'eviction walks gave up because they saw too many pages and found no candidates': 0, 'eviction walks gave up because they saw too many pages and found too few candidates': 0, 'eviction walks reached end of tree': 0, 'eviction walks started from root of tree': 0, 'eviction walks started from saved location in tree': 0, 'eviction worker thread active': 4, 'eviction worker thread created': 0, 'eviction worker thread evicting pages': 0, 'eviction worker thread removed': 0, 'eviction worker thread stable number': 0, 'files with active eviction walks': 0, 'files with new eviction walks started': 0, 'force re-tuning of eviction workers once in a while': 0, 'forced eviction - pages evicted that were clean count': 0, 'forced eviction - pages evicted that were clean time (usecs)': 0, 'forced eviction - pages evicted that were dirty count': 0, 'forced eviction - pages evicted that were dirty time (usecs)': 0, 'forced eviction - pages selected because of too many deleted items count': 0, 'forced eviction - pages selected count': 0, 'forced eviction - pages selected unable to be evicted count': 0, 'forced eviction - pages selected unable to be evicted time': 0, 'hazard pointer blocked page eviction': 0, 'hazard pointer check calls': 0, 'hazard pointer check entries walked': 0, 'hazard pointer maximum array length': 0, 'in-memory page passed criteria to be split': 0, 'in-memory page splits': 0, 'internal pages evicted': 0, 'internal pages queued for eviction': 0, 'internal pages seen by eviction walk': 0, 'internal pages seen by eviction walk that are already queued': 0, 'internal pages split during eviction': 0, 'leaf pages split during eviction': 0, 'maximum bytes configured': 3758096384.0, 'maximum page size at eviction': 0, 'modified pages evicted': 0, 'modified pages evicted by application threads': 0, 'operations timed out waiting for space in cache': 0, 'overflow pages read into cache': 0, 'page split during eviction deepened the tree': 0, 'page written requiring cache overflow records': 0, 'pages currently held in the cache': 30, 'pages evicted by application threads': 0, 'pages queued for eviction': 0, 'pages queued for eviction post lru sorting': 0, 'pages queued for urgent eviction': 0, 'pages queued for urgent eviction during walk': 0, 'pages read into cache': 19, 'pages read into cache after truncate': 5, 'pages read into cache after truncate in prepare state': 0, 'pages read into cache requiring cache overflow entries': 0, 'pages read into cache requiring cache overflow for checkpoint': 0, 'pages read into cache skipping older cache overflow entries': 0, 'pages read into cache with skipped cache overflow entries needed later': 0, 'pages read into cache with skipped cache overflow entries needed later by checkpoint': 0, 'pages requested from the cache': 4256, 'pages seen by eviction walk': 0, 'pages seen by eviction walk that are already queued': 0, 'pages selected for eviction unable to be evicted': 0, 'pages selected for eviction unable to be evicted as the parent page has overflow items': 0, 'pages selected for eviction unable to be evicted because of active children on an internal page': 0, 'pages selected for eviction unable to be evicted because of failure in reconciliation': 0, 'pages selected for eviction unable to be evicted due to newer modifications on a clean page': 0, 'pages walked for eviction': 0, 'pages written from cache': 546, 'pages written requiring in-memory restoration': 0, 'percentage overhead': 8, 'tracked bytes belonging to internal pages in the cache': 6204, 'tracked bytes belonging to leaf pages in the cache': 152281, 'tracked dirty bytes in the cache': 0, 'tracked dirty pages in the cache': 0, 'unmodified pages evicted': 0}, 'capacity': {'background fsync file handles considered': 0, 'background fsync file handles synced': 0, 'background fsync time (msecs)': 0, 'bytes read': 106496, 'bytes written for checkpoint': 3254058, 'bytes written for eviction': 0, 'bytes written for log': 1258299264.0, 'bytes written total': 1261553322.0, 'threshold to call fsync': 0, 'time waiting due to total capacity (usecs)': 0, 'time waiting during checkpoint (usecs)': 0, 'time waiting during eviction (usecs)': 0, 'time waiting during logging (usecs)': 0, 'time waiting during read (usecs)': 0}, 'connection': {'auto adjusting condition resets': 687, 'auto adjusting condition wait calls': 63901, 'detected system time went backwards': 0, 'files currently open': 18, 'memory allocations': 330154, 'memory frees': 328603, 'memory re-allocations': 42715, 'pthread mutex condition wait calls': 170606, 'pthread mutex shared lock read-lock calls': 116666, 'pthread mutex shared lock write-lock calls': 11348, 'total fsync I/Os': 681, 'total read I/Os': 1625, 'total write I/Os': 1354}, 'cursor': {'cached cursor count': 22, 'cursor bulk loaded cursor insert calls': 0, 'cursor close calls that result in cache': 629, 'cursor create calls': 155, 'cursor insert calls': 369, 'cursor insert key and value bytes': 168544, 'cursor modify calls': 0, 'cursor modify key and value bytes affected': 0, 'cursor modify value bytes modified': 0, 'cursor next calls': 468, 'cursor operation restarted': 0, 'cursor prev calls': 14, 'cursor remove calls': 86, 'cursor remove key bytes removed': 1377, 'cursor reserve calls': 0, 'cursor reset calls': 4902, 'cursor search calls': 2549, 'cursor search near calls': 278, 'cursor sweep buckets': 2016, 'cursor sweep cursors closed': 0, 'cursor sweep cursors examined': 31, 'cursor sweeps': 336, 'cursor truncate calls': 0, 'cursor update calls': 0, 'cursor update key and value bytes': 0, 'cursor update value size change': 0, 'cursors reused from cache': 583, 'open cursor count': 22}, 'data-handle': {'connection data handle size': 456, 'connection data handles currently active': 28, 'connection sweep candidate became referenced': 0, 'connection sweep dhandles closed': 0, 'connection sweep dhandles removed from hash list': 132, 'connection sweep time-of-death sets': 613, 'connection sweeps': 1042, 'session dhandles swept': 0, 'session sweep attempts': 119}, 'lock': {'checkpoint lock acquisitions': 174, 'checkpoint lock application thread wait time (usecs)': 21, 'checkpoint lock internal thread wait time (usecs)': 0, 'dhandle lock application thread time waiting (usecs)': 0, 'dhandle lock internal thread time waiting (usecs)': 2, 'dhandle read lock acquisitions': 42574, 'dhandle write lock acquisitions': 292, 'durable timestamp queue lock application thread time waiting (usecs)': 0, 'durable timestamp queue lock internal thread time waiting (usecs)': 0, 'durable timestamp queue read lock acquisitions': 0, 'durable timestamp queue write lock acquisitions': 0, 'metadata lock acquisitions': 105, 'metadata lock application thread wait time (usecs)': 2, 'metadata lock internal thread wait time (usecs)': 0, 'read timestamp queue lock application thread time waiting (usecs)': 0, 'read timestamp queue lock internal thread time waiting (usecs)': 0, 'read timestamp queue read lock acquisitions': 0, 'read timestamp queue write lock acquisitions': 0, 'schema lock acquisitions': 133, 'schema lock application thread wait time (usecs)': 0, 'schema lock internal thread wait time (usecs)': 0, 'table lock application thread time waiting for the table lock (usecs)': 0, 'table lock internal thread time waiting for the table lock (usecs)': 0, 'table read lock acquisitions': 0, 'table write lock acquisitions': 15, 'txn global lock application thread time waiting (usecs)': 0, 'txn global lock internal thread time waiting (usecs)': 0, 'txn global read lock acquisitions': 561, 'txn global write lock acquisitions': 343}, 'log': {'busy returns attempting to switch slots': 0, 'force archive time sleeping (usecs)': 0, 'log bytes of payload data': 95568, 'log bytes written': 132224, 'log files manually zero-filled': 0, 'log flush operations': 101151, 'log force write operations': 112064, 'log force write operations skipped': 111943, 'log records compressed': 73, 'log records not compressed': 84, 'log records too small to compress': 262, 'log release advances write LSN': 106, 'log scan operations': 6, 'log scan records requiring two reads': 0, 'log server thread advances write LSN': 122, 'log server thread write LSN walk skipped': 13231, 'log sync operations': 226, 'log sync time duration (usecs)': 2417259, 'log sync_dir operations': 1, 'log sync_dir time duration (usecs)': 3257, 'log write operations': 419, 'logging bytes consolidated': 131712, 'maximum log file size': 104857600, 'number of pre-allocated log files to create': 2, 'pre-allocated log files not ready and missed': 1, 'pre-allocated log files prepared': 2, 'pre-allocated log files used': 0, 'records processed by log scan': 12, 'slot close lost race': 0, 'slot close unbuffered waits': 0, 'slot closures': 228, 'slot join atomic update races': 0, 'slot join calls atomic updates raced': 0, 'slot join calls did not yield': 419, 'slot join calls found active slot closed': 0, 'slot join calls slept': 0, 'slot join calls yielded': 0, 'slot join found active slot closed': 0, 'slot joins yield time (usecs)': 0, 'slot transitions unable to find free slot': 0, 'slot unbuffered writes': 0, 'total in-memory size of compressed records': 156346, 'total log buffer size': 33554432, 'total size of compressed records': 71694, 'written slots coalesced': 0, 'yields waiting for previous log file close': 0}, 'perf': {'file system read latency histogram (bucket 1) - 10-49ms': 0, 'file system read latency histogram (bucket 2) - 50-99ms': 0, 'file system read latency histogram (bucket 3) - 100-249ms': 0, 'file system read latency histogram (bucket 4) - 250-499ms': 0, 'file system read latency histogram (bucket 5) - 500-999ms': 0, 'file system read latency histogram (bucket 6) - 1000ms+': 0, 'file system write latency histogram (bucket 1) - 10-49ms': 0, 'file system write latency histogram (bucket 2) - 50-99ms': 0, 'file system write latency histogram (bucket 3) - 100-249ms': 0, 'file system write latency histogram (bucket 4) - 250-499ms': 0, 'file system write latency histogram (bucket 5) - 500-999ms': 0, 'file system write latency histogram (bucket 6) - 1000ms+': 0, 'operation read latency histogram (bucket 1) - 100-249us': 2, 'operation read latency histogram (bucket 2) - 250-499us': 0, 'operation read latency histogram (bucket 3) - 500-999us': 1, 'operation read latency histogram (bucket 4) - 1000-9999us': 1, 'operation read latency histogram (bucket 5) - 10000us+': 0, 'operation write latency histogram (bucket 1) - 100-249us': 1, 'operation write latency histogram (bucket 2) - 250-499us': 0, 'operation write latency histogram (bucket 3) - 500-999us': 0, 'operation write latency histogram (bucket 4) - 1000-9999us': 0, 'operation write latency histogram (bucket 5) - 10000us+': 0}, 'reconciliation': {'fast-path pages deleted': 0, 'page reconciliation calls': 548, 'page reconciliation calls for eviction': 0, 'pages deleted': 2, 'split bytes currently awaiting free': 0, 'split objects currently awaiting free': 0}, 'session': {'open session count': 19, 'session query timestamp calls': 0, 'table alter failed calls': 0, 'table alter successful calls': 0, 'table alter unchanged and skipped': 0, 'table compact failed calls': 0, 'table compact successful calls': 0, 'table create failed calls': 0, 'table create successful calls': 3, 'table drop failed calls': 0, 'table drop successful calls': 0, 'table import failed calls': 0, 'table import successful calls': 0, 'table rebalance failed calls': 0, 'table rebalance successful calls': 0, 'table rename failed calls': 0, 'table rename successful calls': 0, 'table salvage failed calls': 0, 'table salvage successful calls': 0, 'table truncate failed calls': 0, 'table truncate successful calls': 0, 'table verify failed calls': 0, 'table verify successful calls': 0}, 'thread-state': {'active filesystem fsync calls': 0, 'active filesystem read calls': 0, 'active filesystem write calls': 0}, 'thread-yield': {'application thread time evicting (usecs)': 0, 'application thread time waiting for cache (usecs)': 0, 'connection close blocked waiting for transaction state stabilization': 0, 'connection close yielded for lsm manager shutdown': 0, 'data handle lock yielded': 0, 'get reference for page index and slot time sleeping (usecs)': 0, 'log server sync yielded for log write': 0, 'page access yielded due to prepare state change': 0, 'page acquire busy blocked': 0, 'page acquire eviction blocked': 0, 'page acquire locked blocked': 0, 'page acquire read blocked': 0, 'page acquire time sleeping (usecs)': 0, 'page delete rollback time sleeping for state change (usecs)': 0, 'page reconciliation yielded due to child modification': 0}, 'transaction': {'Number of prepared updates': 0, 'Number of prepared updates added to cache overflow': 0, 'durable timestamp queue entries walked': 0, 'durable timestamp queue insert to empty': 0, 'durable timestamp queue inserts to head': 0, 'durable timestamp queue inserts total': 0, 'durable timestamp queue length': 0, 'number of named snapshots created': 0, 'number of named snapshots dropped': 0, 'prepared transactions': 0, 'prepared transactions committed': 0, 'prepared transactions currently active': 0, 'prepared transactions rolled back': 0, 'query timestamp calls': 10405, 'read timestamp queue entries walked': 0, 'read timestamp queue insert to empty': 0, 'read timestamp queue inserts to head': 0, 'read timestamp queue inserts total': 0, 'read timestamp queue length': 0, 'rollback to stable calls': 0, 'rollback to stable updates aborted': 0, 'rollback to stable updates removed from cache overflow': 0, 'set timestamp calls': 0, 'set timestamp durable calls': 0, 'set timestamp durable updates': 0, 'set timestamp oldest calls': 0, 'set timestamp oldest updates': 0, 'set timestamp stable calls': 0, 'set timestamp stable updates': 0, 'transaction begins': 644, 'transaction checkpoint currently running': 0, 'transaction checkpoint generation': 106, 'transaction checkpoint max time (msecs)': 225, 'transaction checkpoint min time (msecs)': 9, 'transaction checkpoint most recent time (msecs)': 38, 'transaction checkpoint scrub dirty target': 0, 'transaction checkpoint scrub time (msecs)': 0, 'transaction checkpoint total time (msecs)': 4508, 'transaction checkpoints': 174, 'transaction checkpoints skipped because database was clean': 69, 'transaction failures due to cache overflow': 0, 'transaction fsync calls for checkpoint after allocating the transaction ID': 105, 'transaction fsync duration for checkpoint after allocating the transaction ID (usecs)': 0, 'transaction range of IDs currently pinned': 0, 'transaction range of IDs currently pinned by a checkpoint': 0, 'transaction range of IDs currently pinned by named snapshots': 0, 'transaction range of timestamps currently pinned': 0, 'transaction range of timestamps pinned by a checkpoint': 0, 'transaction range of timestamps pinned by the oldest active read timestamp': 0, 'transaction range of timestamps pinned by the oldest timestamp': 0, 'transaction read timestamp of the oldest active reader': 0, 'transaction sync calls': 0, 'transactions committed': 132, 'transactions rolled back': 512, 'update conflicts': 0}, 'concurrentTransactions': {'write': {'out': 0, 'available': 128, 'totalTickets': 128}, 'read': {'out': 1, 'available': 127, 'totalTickets': 128}}, 'snapshot-window-settings': {'cache pressure percentage threshold': 95, 'current cache pressure percentage': 0, 'total number of SnapshotTooOld errors': 0, 'max target available snapshots window size in seconds': 5, 'target available snapshots window size in seconds': 5, 'current available snapshots window size in seconds': 0, 'latest majority snapshot timestamp available': 'Dec 31 18:00:00:0', 'oldest majority snapshot timestamp available': 'Dec 31 18:00:00:0'}}, 'mem': {'bits': 64, 'resident': 26, 'virtual': 5449, 'supported': True}, 'metrics': {'commands': {'<UNKNOWN>': 0, '_addShard': {'failed': 0, 'total': 0}, '_cloneCatalogData': {'failed': 0, 'total': 0}, '_cloneCollectionOptionsFromPrimaryShard': {'failed': 0, 'total': 0}, '_configsvrAddShard': {'failed': 0, 'total': 0}, '_configsvrAddShardToZone': {'failed': 0, 'total': 0}, '_configsvrBalancerStart': {'failed': 0, 'total': 0}, '_configsvrBalancerStatus': {'failed': 0, 'total': 0}, '_configsvrBalancerStop': {'failed': 0, 'total': 0}, '_configsvrClearJumboFlag': {'failed': 0, 'total': 0}, '_configsvrCommitChunkMerge': {'failed': 0, 'total': 0}, '_configsvrCommitChunkMigration': {'failed': 0, 'total': 0}, '_configsvrCommitChunkSplit': {'failed': 0, 'total': 0}, '_configsvrCommitMovePrimary': {'failed': 0, 'total': 0}, '_configsvrCreateCollection': {'failed': 0, 'total': 0}, '_configsvrCreateDatabase': {'failed': 0, 'total': 0}, '_configsvrDropCollection': {'failed': 0, 'total': 0}, '_configsvrDropDatabase': {'failed': 0, 'total': 0}, '_configsvrEnableSharding': {'failed': 0, 'total': 0}, '_configsvrMoveChunk': {'failed': 0, 'total': 0}, '_configsvrMovePrimary': {'failed': 0, 'total': 0}, '_configsvrRemoveShard': {'failed': 0, 'total': 0}, '_configsvrRemoveShardFromZone': {'failed': 0, 'total': 0}, '_configsvrShardCollection': {'failed': 0, 'total': 0}, '_configsvrUpdateZoneKeyRange': {'failed': 0, 'total': 0}, '_flushDatabaseCacheUpdates': {'failed': 0, 'total': 0}, '_flushRoutingTableCacheUpdates': {'failed': 0, 'total': 0}, '_getNextSessionMods': {'failed': 0, 'total': 0}, '_getUserCacheGeneration': {'failed': 0, 'total': 0}, '_isSelf': {'failed': 0, 'total': 0}, '_mergeAuthzCollections': {'failed': 0, 'total': 0}, '_migrateClone': {'failed': 0, 'total': 0}, '_movePrimary': {'failed': 0, 'total': 0}, '_recvChunkAbort': {'failed': 0, 'total': 0}, '_recvChunkCommit': {'failed': 0, 'total': 0}, '_recvChunkStart': {'failed': 0, 'total': 0}, '_recvChunkStatus': {'failed': 0, 'total': 0}, '_shardsvrShardCollection': {'failed': 0, 'total': 0}, '_transferMods': {'failed': 0, 'total': 0}, 'abortTransaction': {'failed': 0, 'total': 0}, 'aggregate': {'failed': 0, 'total': 0}, 'appendOplogNote': {'failed': 0, 'total': 0}, 'applyOps': {'failed': 0, 'total': 0}, 'authenticate': {'failed': 0, 'total': 0}, 'availableQueryOptions': {'failed': 0, 'total': 0}, 'buildInfo': {'failed': 0, 'total': 18}, 'checkShardingIndex': {'failed': 0, 'total': 0}, 'cleanupOrphaned': {'failed': 0, 'total': 0}, 'cloneCollection': {'failed': 0, 'total': 0}, 'cloneCollectionAsCapped': {'failed': 0, 'total': 0}, 'collMod': {'failed': 0, 'total': 0}, 'collStats': {'failed': 0, 'total': 0}, 'commitTransaction': {'failed': 0, 'total': 0}, 'compact': {'failed': 0, 'total': 0}, 'connPoolStats': {'failed': 0, 'total': 0}, 'connPoolSync': {'failed': 0, 'total': 0}, 'connectionStatus': {'failed': 0, 'total': 0}, 'convertToCapped': {'failed': 0, 'total': 0}, 'coordinateCommitTransaction': {'failed': 0, 'total': 0}, 'count': {'failed': 0, 'total': 0}, 'create': {'failed': 0, 'total': 0}, 'createIndexes': {'failed': 0, 'total': 0}, 'createRole': {'failed': 0, 'total': 0}, 'createUser': {'failed': 0, 'total': 0}, 'currentOp': {'failed': 0, 'total': 0}, 'dataSize': {'failed': 0, 'total': 0}, 'dbHash': {'failed': 0, 'total': 0}, 'dbStats': {'failed': 0, 'total': 0}, 'delete': {'failed': 0, 'total': 2}, 'distinct': {'failed': 0, 'total': 0}, 'driverOIDTest': {'failed': 0, 'total': 0}, 'drop': {'failed': 0, 'total': 0}, 'dropAllRolesFromDatabase': {'failed': 0, 'total': 0}, 'dropAllUsersFromDatabase': {'failed': 0, 'total': 0}, 'dropConnections': {'failed': 0, 'total': 0}, 'dropDatabase': {'failed': 0, 'total': 0}, 'dropIndexes': {'failed': 0, 'total': 0}, 'dropRole': {'failed': 0, 'total': 0}, 'dropUser': {'failed': 0, 'total': 0}, 'endSessions': {'failed': 0, 'total': 0}, 'explain': {'failed': 0, 'total': 0}, 'features': {'failed': 0, 'total': 0}, 'filemd5': {'failed': 0, 'total': 0}, 'find': {'failed': 0, 'total': 57}, 'findAndModify': {'failed': 0, 'total': 0}, 'flushRouterConfig': {'failed': 0, 'total': 0}, 'fsync': {'failed': 0, 'total': 0}, 'fsyncUnlock': {'failed': 0, 'total': 0}, 'geoSearch': {'failed': 0, 'total': 0}, 'getCmdLineOpts': {'failed': 0, 'total': 1}, 'getDatabaseVersion': {'failed': 0, 'total': 0}, 'getDiagnosticData': {'failed': 0, 'total': 0}, 'getFreeMonitoringStatus': {'failed': 0, 'total': 1}, 'getLastError': {'failed': 0, 'total': 0}, 'getLog': {'failed': 0, 'total': 1}, 'getMore': {'failed': 0, 'total': 0}, 'getParameter': {'failed': 0, 'total': 0}, 'getShardMap': {'failed': 0, 'total': 0}, 'getShardVersion': {'failed': 0, 'total': 0}, 'getnonce': {'failed': 0, 'total': 0}, 'grantPrivilegesToRole': {'failed': 0, 'total': 0}, 'grantRolesToRole': {'failed': 0, 'total': 0}, 'grantRolesToUser': {'failed': 0, 'total': 0}, 'hostInfo': {'failed': 0, 'total': 0}, 'insert': {'failed': 0, 'total': 2}, 'invalidateUserCache': {'failed': 0, 'total': 0}, 'isMaster': {'failed': 0, 'total': 1092}, 'killAllSessions': {'failed': 0, 'total': 0}, 'killAllSessionsByPattern': {'failed': 0, 'total': 0}, 'killCursors': {'failed': 0, 'total': 0}, 'killOp': {'failed': 0, 'total': 0}, 'killSessions': {'failed': 0, 'total': 0}, 'listCollections': {'failed': 0, 'total': 2}, 'listCommands': {'failed': 0, 'total': 0}, 'listDatabases': {'failed': 0, 'total': 6}, 'listIndexes': {'failed': 0, 'total': 71}, 'lockInfo': {'failed': 0, 'total': 0}, 'logRotate': {'failed': 0, 'total': 0}, 'logout': {'failed': 0, 'total': 0}, 'mapReduce': {'failed': 0, 'total': 0}, 'mapreduce': {'shardedfinish': {'failed': 0, 'total': 0}}, 'mergeChunks': {'failed': 0, 'total': 0}, 'moveChunk': {'failed': 0, 'total': 0}, 'ping': {'failed': 0, 'total': 642}, 'planCacheClear': {'failed': 0, 'total': 0}, 'planCacheClearFilters': {'failed': 0, 'total': 0}, 'planCacheListFilters': {'failed': 0, 'total': 0}, 'planCacheListPlans': {'failed': 0, 'total': 0}, 'planCacheListQueryShapes': {'failed': 0, 'total': 0}, 'planCacheSetFilter': {'failed': 0, 'total': 0}, 'prepareTransaction': {'failed': 0, 'total': 0}, 'profile': {'failed': 0, 'total': 0}, 'reIndex': {'failed': 0, 'total': 0}, 'refreshSessions': {'failed': 0, 'total': 0}, 'renameCollection': {'failed': 0, 'total': 0}, 'repairCursor': {'failed': 0, 'total': 0}, 'repairDatabase': {'failed': 0, 'total': 0}, 'replSetAbortPrimaryCatchUp': {'failed': 0, 'total': 0}, 'replSetFreeze': {'failed': 0, 'total': 0}, 'replSetGetConfig': {'failed': 0, 'total': 0}, 'replSetGetRBID': {'failed': 0, 'total': 0}, 'replSetGetStatus': {'failed': 1, 'total': 1}, 'replSetHeartbeat': {'failed': 0, 'total': 0}, 'replSetInitiate': {'failed': 0, 'total': 0}, 'replSetMaintenance': {'failed': 0, 'total': 0}, 'replSetReconfig': {'failed': 0, 'total': 0}, 'replSetRequestVotes': {'failed': 0, 'total': 0}, 'replSetResizeOplog': {'failed': 0, 'total': 0}, 'replSetStepDown': {'failed': 0, 'total': 0}, 'replSetStepDownWithForce': {'failed': 0, 'total': 0}, 'replSetStepUp': {'failed': 0, 'total': 0}, 'replSetSyncFrom': {'failed': 0, 'total': 0}, 'replSetUpdatePosition': {'failed': 0, 'total': 0}, 'resetError': {'failed': 0, 'total': 0}, 'revokePrivilegesFromRole': {'failed': 0, 'total': 0}, 'revokeRolesFromRole': {'failed': 0, 'total': 0}, 'revokeRolesFromUser': {'failed': 0, 'total': 0}, 'rolesInfo': {'failed': 0, 'total': 0}, 'saslContinue': {'failed': 0, 'total': 0}, 'saslStart': {'failed': 0, 'total': 0}, 'serverStatus': {'failed': 0, 'total': 6}, 'setFeatureCompatibilityVersion': {'failed': 0, 'total': 0}, 'setFreeMonitoring': {'failed': 0, 'total': 0}, 'setIndexCommitQuorum': {'failed': 0, 'total': 0}, 'setParameter': {'failed': 0, 'total': 0}, 'setShardVersion': {'failed': 0, 'total': 0}, 'shardConnPoolStats': {'failed': 0, 'total': 0}, 'shardingState': {'failed': 0, 'total': 0}, 'shutdown': {'failed': 0, 'total': 0}, 'splitChunk': {'failed': 0, 'total': 0}, 'splitVector': {'failed': 0, 'total': 0}, 'startRecordingTraffic': {'failed': 0, 'total': 0}, 'startSession': {'failed': 0, 'total': 0}, 'stopRecordingTraffic': {'failed': 0, 'total': 0}, 'top': {'failed': 0, 'total': 0}, 'touch': {'failed': 0, 'total': 0}, 'unsetSharding': {'failed': 0, 'total': 0}, 'update': {'failed': 0, 'total': 37}, 'updateRole': {'failed': 0, 'total': 0}, 'updateUser': {'failed': 0, 'total': 0}, 'usersInfo': {'failed': 0, 'total': 0}, 'validate': {'failed': 0, 'total': 0}, 'voteCommitIndexBuild': {'failed': 0, 'total': 0}, 'waitForFailPoint': {'failed': 0, 'total': 0}, 'whatsmyuri': {'failed': 0, 'total': 6}}, 'cursor': {'timedOut': 0, 'open': {'noTimeout': 0, 'pinned': 0, 'total': 0}}, 'document': {'deleted': 1, 'inserted': 2, 'returned': 92, 'updated': 62}, 'getLastError': {'wtime': {'num': 0, 'totalMillis': 0}, 'wtimeouts': 0}, 'operation': {'scanAndOrder': 0, 'writeConflicts': 0}, 'query': {'planCacheTotalSizeEstimateBytes': 0, 'updateOneOpStyleBroadcastWithExactIDCount': 0}, 'queryExecutor': {'scanned': 70, 'scannedObjects': 155}, 'record': {'moves': 0}, 'repl': {'executor': {'pool': {'inProgressCount': 0}, 'queues': {'networkInProgress': 0, 'sleepers': 0}, 'unsignaledEvents': 0, 'shuttingDown': False, 'networkInterface': 'DEPRECATED: getDiagnosticString is deprecated in NetworkInterfaceTL'}, 'apply': {'attemptsToBecomeSecondary': 0, 'batchSize': 0, 'batches': {'num': 0, 'totalMillis': 0}, 'ops': 0}, 'buffer': {'count': 0, 'maxSizeBytes': 0, 'sizeBytes': 0}, 'initialSync': {'completed': 0, 'failedAttempts': 0, 'failures': 0}, 'network': {'bytes': 0, 'getmores': {'num': 0, 'totalMillis': 0}, 'notMasterLegacyUnacknowledgedWrites': 0, 'notMasterUnacknowledgedWrites': 0, 'ops': 0, 'readersCreated': 0}, 'stateTransition': {'lastStateTransition': '', 'userOperationsKilled': 0, 'userOperationsRunning': 0}}, 'ttl': {'deletedDocuments': 8, 'passes': 173}}, 'ok': 1.0}\n"
     ]
    }
   ],
   "source": [
    "client = MongoClient('mongodb://localhost:27017')\n",
    "db=client.admin\n",
    "serverStatusResult=db.command(\"serverStatus\")\n",
    "print(serverStatusResult)"
   ]
  },
  {
   "cell_type": "code",
   "execution_count": 3,
   "metadata": {},
   "outputs": [],
   "source": [
    "db = client.reviews\n",
    "collection = db.reviews\n",
    "recombee_client = RecombeeClient('socio-advisor-dev-restro','B1LpRsseWM0sAR9vaBl3dW1MXQjnfTfA5N0Dc4JfYVOTf36XfDed5fw6MrQspUl7')\n",
    "list=[]"
   ]
  },
  {
   "cell_type": "code",
   "execution_count": 4,
   "metadata": {
    "scrolled": false
   },
   "outputs": [
    {
     "name": "stdout",
     "output_type": "stream",
     "text": [
      "{'_id': ObjectId('5e9e49249525213d5d9d3aad'), 'reviews': 'good ', 'rating': '0.75', 'username': 'V', 'restaurant_name': \"Jimmy John's\", 'id': 'fVkpLWJncAxuWauMM31ikQ', '__v': 0}\n",
      "{'_id': ObjectId('5e9e4a5a9525213d5d9d3aae'), 'reviews': 'nice', 'rating': '0.5', 'username': 'V', 'restaurant_name': 'Macanudo Mate', 'id': 'Db4gF-XkcKGNI2np-Fy6Dw', '__v': 0}\n",
      "{'_id': ObjectId('5e9e4a689525213d5d9d3aaf'), 'reviews': 'best', 'rating': '0', 'username': 'V', 'restaurant_name': 'Spin - Chicago', 'id': 'HmZPTPbozz_IeCxWhVpy_w', '__v': 0}\n",
      "{'_id': ObjectId('5e9e4a809525213d5d9d3ab0'), 'reviews': 'best so far', 'rating': '0', 'username': 'V', 'restaurant_name': 'Snickers Bar & Grill', 'id': 'tBuJCcKXuXw_1sWmTw10xw', '__v': 0}\n",
      "{'_id': ObjectId('5e9e4a909525213d5d9d3ab1'), 'reviews': 'bad', 'rating': '-1', 'username': 'V', 'restaurant_name': \"Infield's\", 'id': '4lPzgBs6zLbxnrB5IGjSRA', '__v': 0}\n",
      "{'_id': ObjectId('5e9e4a9a9525213d5d9d3ab2'), 'reviews': 'best', 'rating': '0', 'username': 'V', 'restaurant_name': 'Which Wich', 'id': '5WU5wPtC9DpgwWqkQurAnw', '__v': 0}\n",
      "{'_id': ObjectId('5e9f3990c942a008206ea69e'), 'reviews': 'its good', 'rating': '0.5', 'username': 's', 'restaurant_name': 'Downtown Dogs', 'id': 'sfb3JDZ-hfv7loFbjvzjuQ', '__v': 0}\n",
      "{'_id': ObjectId('5e9f399bc942a008206ea69f'), 'reviews': 'its bad', 'rating': '-1', 'username': 's', 'restaurant_name': 'Kostali', 'id': 'SQs7MlBjgEZbyLkeaeQstw', '__v': 0}\n",
      "{'_id': ObjectId('5e9f39a8c942a008206ea6a0'), 'reviews': 'just ok', 'rating': '-0.25', 'username': 's', 'restaurant_name': 'Downtown Dogs', 'id': 'sfb3JDZ-hfv7loFbjvzjuQ', '__v': 0}\n",
      "{'_id': ObjectId('5e9f4c60f5d2e12bc06d7f64'), 'reviews': 'just ok', 'rating': '-0.25', 'username': 'sumanth', 'restaurant_name': 'Downtown Dogs', 'id': 'sfb3JDZ-hfv7loFbjvzjuQ', '__v': 0}\n",
      "{'_id': ObjectId('5e9f7c455e58872f17b5fb32'), 'reviews': 'good', 'rating': '0', 'username': 's', 'restaurant_name': \"Dunkin'\", 'id': 'xncZw2DbOZlZBaw9rihcag', '__v': 0}\n",
      "{'_id': ObjectId('5e9f7c4f5e58872f17b5fb33'), 'reviews': 'best', 'rating': '0.5', 'username': 's', 'restaurant_name': 'Dough Bros: Pizzeria & Sub Shop', 'id': '9j1U-xXfP0YYCq4vR26l1w', '__v': 0}\n",
      "{'_id': ObjectId('5e9f7c5f5e58872f17b5fb34'), 'reviews': 'wtf', 'rating': '-1', 'username': 's', 'restaurant_name': 'Chipotle Mexican Grill', 'id': 'GuISl9iEs8XuwQeQNCk3kA', '__v': 0}\n",
      "{'_id': ObjectId('5e9f7c6c5e58872f17b5fb35'), 'reviews': 'is it a pizza', 'rating': '-1', 'username': 's', 'restaurant_name': \"Farmer's Fridge\", 'id': 'NRY7NmPVGMSfWealHdmcYw', '__v': 0}\n",
      "{'_id': ObjectId('5e9f7c795e58872f17b5fb36'), 'reviews': 'nice', 'rating': '0.5', 'username': 's', 'restaurant_name': 'Potbelly Sandwich Shop', 'id': 'OXd7OTYmiNlPbJEozpIAeg', '__v': 0}\n",
      "{'_id': ObjectId('5e9f7c835e58872f17b5fb37'), 'reviews': 'best', 'rating': '1', 'username': 's', 'restaurant_name': 'Pret A Manger', 'id': 'Ac6XpH8gKVuQs0VXh_BZIQ', '__v': 0}\n",
      "{'_id': ObjectId('5e9f7c8d5e58872f17b5fb38'), 'reviews': 'ok', 'rating': '-1', 'username': 's', 'restaurant_name': 'Alliance Patisserie', 'id': 'rF_epkE2KCYqlgYrMXBS5w', '__v': 0}\n"
     ]
    }
   ],
   "source": [
    "for x in collection.find():\n",
    "    print(x)\n",
    "    list.append(x)\n",
    "    "
   ]
  },
  {
   "cell_type": "code",
   "execution_count": 5,
   "metadata": {},
   "outputs": [
    {
     "name": "stdout",
     "output_type": "stream",
     "text": [
      "[{'_id': ObjectId('5e9e49249525213d5d9d3aad'), 'reviews': 'good ', 'rating': '0.75', 'username': 'V', 'restaurant_name': \"Jimmy John's\", 'id': 'fVkpLWJncAxuWauMM31ikQ', '__v': 0}, {'_id': ObjectId('5e9e4a5a9525213d5d9d3aae'), 'reviews': 'nice', 'rating': '0.5', 'username': 'V', 'restaurant_name': 'Macanudo Mate', 'id': 'Db4gF-XkcKGNI2np-Fy6Dw', '__v': 0}, {'_id': ObjectId('5e9e4a689525213d5d9d3aaf'), 'reviews': 'best', 'rating': '0', 'username': 'V', 'restaurant_name': 'Spin - Chicago', 'id': 'HmZPTPbozz_IeCxWhVpy_w', '__v': 0}, {'_id': ObjectId('5e9e4a809525213d5d9d3ab0'), 'reviews': 'best so far', 'rating': '0', 'username': 'V', 'restaurant_name': 'Snickers Bar & Grill', 'id': 'tBuJCcKXuXw_1sWmTw10xw', '__v': 0}, {'_id': ObjectId('5e9e4a909525213d5d9d3ab1'), 'reviews': 'bad', 'rating': '-1', 'username': 'V', 'restaurant_name': \"Infield's\", 'id': '4lPzgBs6zLbxnrB5IGjSRA', '__v': 0}, {'_id': ObjectId('5e9e4a9a9525213d5d9d3ab2'), 'reviews': 'best', 'rating': '0', 'username': 'V', 'restaurant_name': 'Which Wich', 'id': '5WU5wPtC9DpgwWqkQurAnw', '__v': 0}, {'_id': ObjectId('5e9f3990c942a008206ea69e'), 'reviews': 'its good', 'rating': '0.5', 'username': 's', 'restaurant_name': 'Downtown Dogs', 'id': 'sfb3JDZ-hfv7loFbjvzjuQ', '__v': 0}, {'_id': ObjectId('5e9f399bc942a008206ea69f'), 'reviews': 'its bad', 'rating': '-1', 'username': 's', 'restaurant_name': 'Kostali', 'id': 'SQs7MlBjgEZbyLkeaeQstw', '__v': 0}, {'_id': ObjectId('5e9f39a8c942a008206ea6a0'), 'reviews': 'just ok', 'rating': '-0.25', 'username': 's', 'restaurant_name': 'Downtown Dogs', 'id': 'sfb3JDZ-hfv7loFbjvzjuQ', '__v': 0}, {'_id': ObjectId('5e9f4c60f5d2e12bc06d7f64'), 'reviews': 'just ok', 'rating': '-0.25', 'username': 'sumanth', 'restaurant_name': 'Downtown Dogs', 'id': 'sfb3JDZ-hfv7loFbjvzjuQ', '__v': 0}, {'_id': ObjectId('5e9f7c455e58872f17b5fb32'), 'reviews': 'good', 'rating': '0', 'username': 's', 'restaurant_name': \"Dunkin'\", 'id': 'xncZw2DbOZlZBaw9rihcag', '__v': 0}, {'_id': ObjectId('5e9f7c4f5e58872f17b5fb33'), 'reviews': 'best', 'rating': '0.5', 'username': 's', 'restaurant_name': 'Dough Bros: Pizzeria & Sub Shop', 'id': '9j1U-xXfP0YYCq4vR26l1w', '__v': 0}, {'_id': ObjectId('5e9f7c5f5e58872f17b5fb34'), 'reviews': 'wtf', 'rating': '-1', 'username': 's', 'restaurant_name': 'Chipotle Mexican Grill', 'id': 'GuISl9iEs8XuwQeQNCk3kA', '__v': 0}, {'_id': ObjectId('5e9f7c6c5e58872f17b5fb35'), 'reviews': 'is it a pizza', 'rating': '-1', 'username': 's', 'restaurant_name': \"Farmer's Fridge\", 'id': 'NRY7NmPVGMSfWealHdmcYw', '__v': 0}, {'_id': ObjectId('5e9f7c795e58872f17b5fb36'), 'reviews': 'nice', 'rating': '0.5', 'username': 's', 'restaurant_name': 'Potbelly Sandwich Shop', 'id': 'OXd7OTYmiNlPbJEozpIAeg', '__v': 0}, {'_id': ObjectId('5e9f7c835e58872f17b5fb37'), 'reviews': 'best', 'rating': '1', 'username': 's', 'restaurant_name': 'Pret A Manger', 'id': 'Ac6XpH8gKVuQs0VXh_BZIQ', '__v': 0}, {'_id': ObjectId('5e9f7c8d5e58872f17b5fb38'), 'reviews': 'ok', 'rating': '-1', 'username': 's', 'restaurant_name': 'Alliance Patisserie', 'id': 'rF_epkE2KCYqlgYrMXBS5w', '__v': 0}]\n"
     ]
    }
   ],
   "source": [
    "print(list)\n",
    "with open('data.txt', 'w') as outfile:\n",
    "    json.dump(list, outfile,default=str)"
   ]
  },
  {
   "cell_type": "code",
   "execution_count": 6,
   "metadata": {
    "scrolled": true
   },
   "outputs": [
    {
     "name": "stdout",
     "output_type": "stream",
     "text": [
      "status: 409, description: {\"message\": \"User \\\"V\\\" already exists!\"}\n",
      "status: 409, description: {\"message\": \"User \\\"V\\\" already exists!\"}\n",
      "status: 409, description: {\"message\": \"User \\\"V\\\" already exists!\"}\n",
      "status: 409, description: {\"message\": \"User \\\"V\\\" already exists!\"}\n",
      "status: 409, description: {\"message\": \"User \\\"V\\\" already exists!\"}\n",
      "status: 409, description: {\"message\": \"User \\\"V\\\" already exists!\"}\n",
      "status: 409, description: {\"message\": \"User \\\"s\\\" already exists!\"}\n",
      "status: 409, description: {\"message\": \"User \\\"s\\\" already exists!\"}\n",
      "status: 409, description: {\"message\": \"User \\\"s\\\" already exists!\"}\n",
      "status: 409, description: {\"message\": \"User \\\"sumanth\\\" already exists!\"}\n",
      "status: 409, description: {\"message\": \"User \\\"s\\\" already exists!\"}\n",
      "status: 409, description: {\"message\": \"User \\\"s\\\" already exists!\"}\n",
      "status: 409, description: {\"message\": \"User \\\"s\\\" already exists!\"}\n",
      "status: 409, description: {\"message\": \"User \\\"s\\\" already exists!\"}\n",
      "status: 409, description: {\"message\": \"User \\\"s\\\" already exists!\"}\n",
      "status: 409, description: {\"message\": \"User \\\"s\\\" already exists!\"}\n",
      "status: 409, description: {\"message\": \"User \\\"s\\\" already exists!\"}\n"
     ]
    }
   ],
   "source": [
    "with open('data.txt') as f:\n",
    "    interactions = json.loads(f.read())\n",
    "    for interaction in interactions:\n",
    "        try:\n",
    "            recombee_client.send(AddUser(interaction['username']))\n",
    "        except APIException as e:\n",
    "                print(e)\n",
    "        except Exception as e:\n",
    "                print(e)\n",
    "        except ResponseException as e:\n",
    "                print(e)"
   ]
  },
  {
   "cell_type": "code",
   "execution_count": 7,
   "metadata": {},
   "outputs": [],
   "source": [
    "# before running next cell make sure that there is restaurant_name feild added in items dashboard in recombee database"
   ]
  },
  {
   "cell_type": "code",
   "execution_count": 8,
   "metadata": {
    "scrolled": true
   },
   "outputs": [
    {
     "name": "stdout",
     "output_type": "stream",
     "text": [
      "status: 409, description: {\"message\": \"item \\\"fVkpLWJncAxuWauMM31ikQ\\\" already exists!\"}\n",
      "status: 409, description: {\"message\": \"item \\\"Db4gF-XkcKGNI2np-Fy6Dw\\\" already exists!\"}\n",
      "status: 409, description: {\"message\": \"item \\\"HmZPTPbozz_IeCxWhVpy_w\\\" already exists!\"}\n",
      "status: 409, description: {\"message\": \"item \\\"tBuJCcKXuXw_1sWmTw10xw\\\" already exists!\"}\n",
      "status: 409, description: {\"message\": \"item \\\"4lPzgBs6zLbxnrB5IGjSRA\\\" already exists!\"}\n",
      "status: 409, description: {\"message\": \"item \\\"5WU5wPtC9DpgwWqkQurAnw\\\" already exists!\"}\n",
      "status: 409, description: {\"message\": \"item \\\"sfb3JDZ-hfv7loFbjvzjuQ\\\" already exists!\"}\n",
      "status: 409, description: {\"message\": \"item \\\"SQs7MlBjgEZbyLkeaeQstw\\\" already exists!\"}\n",
      "status: 409, description: {\"message\": \"item \\\"sfb3JDZ-hfv7loFbjvzjuQ\\\" already exists!\"}\n",
      "status: 409, description: {\"message\": \"item \\\"sfb3JDZ-hfv7loFbjvzjuQ\\\" already exists!\"}\n",
      "status: 409, description: {\"message\": \"item \\\"xncZw2DbOZlZBaw9rihcag\\\" already exists!\"}\n",
      "status: 409, description: {\"message\": \"item \\\"9j1U-xXfP0YYCq4vR26l1w\\\" already exists!\"}\n",
      "status: 409, description: {\"message\": \"item \\\"GuISl9iEs8XuwQeQNCk3kA\\\" already exists!\"}\n",
      "status: 409, description: {\"message\": \"item \\\"NRY7NmPVGMSfWealHdmcYw\\\" already exists!\"}\n",
      "status: 409, description: {\"message\": \"item \\\"OXd7OTYmiNlPbJEozpIAeg\\\" already exists!\"}\n",
      "status: 409, description: {\"message\": \"item \\\"Ac6XpH8gKVuQs0VXh_BZIQ\\\" already exists!\"}\n",
      "status: 409, description: {\"message\": \"item \\\"rF_epkE2KCYqlgYrMXBS5w\\\" already exists!\"}\n"
     ]
    }
   ],
   "source": [
    "requests = []\n",
    "with open('data.txt') as f:\n",
    "    interactions = json.loads(f.read())\n",
    "    for interaction in interactions:\n",
    "#         recombee_client.send(AddUser(interaction['username']))\n",
    "        try:\n",
    "            recombee_client.send(AddItem(interaction['id']))\n",
    "        except Exception as e:\n",
    "            print(e)\n",
    "\n",
    "        r = AddRating(\n",
    "                      interaction['username'],\n",
    "                      interaction['id'],\n",
    "                      interaction['rating'],\n",
    "                     )\n",
    "        requests.append(r)\n",
    "try:\n",
    "    br = Batch(requests)\n",
    "    recombee_client.send(br)\n",
    "except ResponseException as e:\n",
    "        print(e)\n",
    "except APIException as e:\n",
    "        print(e)\n",
    "except Exception as e:\n",
    "        print(e)\n"
   ]
  },
  {
   "cell_type": "code",
   "execution_count": 9,
   "metadata": {},
   "outputs": [
    {
     "name": "stdout",
     "output_type": "stream",
     "text": [
      "'str' object has no attribute 'timeout'\n"
     ]
    }
   ],
   "source": [
    "    for interaction in interactions:\n",
    "#         recombee_client.send(AddItem(interaction['id']))\n",
    "        d=recombee_client.send(SetItemValues(\n",
    "                      interaction['id'],\n",
    "                      {\n",
    "                      \"user_name\": interaction['username'],\n",
    "                      \"restaurant_name\":interaction['restaurant_name'],\n",
    "                      }\n",
    "#                     cascade_create=True\n",
    "                     ))\n",
    "        requests.append(d)\n",
    "try:\n",
    "        br = Batch(requests)\n",
    "        recombee_client.send(br)\n",
    "except APIException as e:\n",
    "        print(e)\n",
    "except Exception as e:\n",
    "        print(e)"
   ]
  },
  {
   "cell_type": "code",
   "execution_count": 10,
   "metadata": {},
   "outputs": [],
   "source": [
    "# sending recommendations to mongodb"
   ]
  },
  {
   "cell_type": "code",
   "execution_count": 22,
   "metadata": {},
   "outputs": [
    {
     "name": "stdout",
     "output_type": "stream",
     "text": [
      "bal\n",
      "{'restaurant_name': 'Chipotle Mexican Grill', 'user_name': 's'}\n",
      "<pymongo.results.InsertOneResult object at 0x108024cd0>\n",
      "baltej\n",
      "{'restaurant_name': 'Potbelly Sandwich Shop', 'user_name': 's'}\n",
      "<pymongo.results.InsertOneResult object at 0x10745fd20>\n",
      "Baltej\n",
      "{'restaurant_name': 'Potbelly Sandwich Shop', 'user_name': 's'}\n",
      "<pymongo.results.InsertOneResult object at 0x1080248c0>\n",
      "jim\n",
      "{'restaurant_name': 'Potbelly Sandwich Shop', 'user_name': 's'}\n",
      "<pymongo.results.InsertOneResult object at 0x10748f140>\n",
      "s\n",
      "{'restaurant_name': 'Jerk Modern Jamaican Grill', 'user_name': 'bal'}\n",
      "<pymongo.results.InsertOneResult object at 0x10804a6e0>\n",
      "sumanth\n",
      "{'restaurant_name': 'Potbelly Sandwich Shop', 'user_name': 's'}\n",
      "<pymongo.results.InsertOneResult object at 0x107ebf280>\n",
      "test1\n",
      "{'restaurant_name': 'Potbelly Sandwich Shop', 'user_name': 's'}\n",
      "<pymongo.results.InsertOneResult object at 0x1080839b0>\n",
      "V\n",
      "{'restaurant_name': 'Potbelly Sandwich Shop', 'user_name': 's'}\n",
      "<pymongo.results.InsertOneResult object at 0x10808a960>\n",
      "Vivek\n",
      "{'restaurant_name': 'Potbelly Sandwich Shop', 'user_name': 's'}\n",
      "<pymongo.results.InsertOneResult object at 0x107ebf280>\n"
     ]
    }
   ],
   "source": [
    "# recommend=[]\n",
    "posts_db = db.posts\n",
    "try:\n",
    "    users = recombee_client.send(ListUsers())\n",
    "except Exception as e:\n",
    "    print(e)\n",
    "for each in users:\n",
    "    try:\n",
    "        print(each)\n",
    "        recommended = recombee_client.send(RecommendItemsToUser(each, 1,return_properties=True,scenario='restaurants_to_user'))\n",
    "        d=(recommended.get('recomms')[0].get('values'))\n",
    "#         recommend.append(recommend)\n",
    "#         recommend.append(each)\n",
    "#         value = json.loads('{\"user\":'+'\"'+each+'\"'+'}')\n",
    "#         d = value.copy()\n",
    "#         d.update(recommended)\n",
    "        print(d)\n",
    "        x = posts_db.insert_one(d)\n",
    "        print(x)\n",
    "    except APIException as e:\n",
    "            print(e)\n",
    "    except Exception as e:\n",
    "            print(e)\n",
    "    except ResponseException as e:\n",
    "            print(e)\n"
   ]
  },
  {
   "cell_type": "code",
   "execution_count": null,
   "metadata": {},
   "outputs": [],
   "source": []
  },
  {
   "cell_type": "code",
   "execution_count": null,
   "metadata": {},
   "outputs": [],
   "source": []
  }
 ],
 "metadata": {
  "kernelspec": {
   "display_name": "Python 3",
   "language": "python",
   "name": "python3"
  },
  "language_info": {
   "codemirror_mode": {
    "name": "ipython",
    "version": 3
   },
   "file_extension": ".py",
   "mimetype": "text/x-python",
   "name": "python",
   "nbconvert_exporter": "python",
   "pygments_lexer": "ipython3",
   "version": "3.7.4"
  }
 },
 "nbformat": 4,
 "nbformat_minor": 2
}
